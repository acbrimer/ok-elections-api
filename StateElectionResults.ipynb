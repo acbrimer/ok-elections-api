{
 "cells": [
  {
   "cell_type": "code",
   "execution_count": 1,
   "metadata": {},
   "outputs": [],
   "source": [
    "import os\n",
    "import zipfile\n",
    "import pandas as pd\n",
    "from datetime import datetime\n",
    "from app.models.engine.app import db\n",
    "from app.models import ElectionDate, ElectionRace, ElectionRaceCandidate, CountyElectionCandidateResult, CountyElectionResult, State, County, Precinct, PrecinctElectionResult, PrecinctElectionCandidateResult, PrecinctResult\n",
    "\n",
    "DOWNLOAD_DIR = os.path.join(\n",
    "    os.getcwd(), 'election-results-scraper/scraped_files')\n",
    "SOURCE_DIR = os.path.join(os.getcwd(), 'data/source/')\n",
    "COUNTY_RESULTS_DIR = os.path.join(SOURCE_DIR, 'county_election_results')\n",
    "PRECINCT_RESULTS_DIR = os.path.join(SOURCE_DIR, 'precinct_election_results')\n",
    "STATE_RESULTS_DIR = os.path.join(SOURCE_DIR, 'state_election_results')\n",
    "\n",
    "\n",
    "def unzipCountyResults():\n",
    "    countyZipFiles = [f for f in os.listdir(DOWNLOAD_DIR) if f.split('_')[\n",
    "        1].startswith('County')]\n",
    "    currentSourceFiles = [f for f in os.listdir(COUNTY_RESULTS_DIR)]\n",
    "    countyZipFiles = [\n",
    "        z for z in countyZipFiles if z.replace('_csv.zip', '.csv') not in currentSourceFiles]\n",
    "    print(f'Unzipping {len(countyZipFiles)} county results files...')\n",
    "    for f in countyZipFiles:\n",
    "        with zipfile.ZipFile(os.path.join(DOWNLOAD_DIR, f), 'r') as z:\n",
    "            z.extractall(COUNTY_RESULTS_DIR)\n",
    "\n",
    "\n",
    "def unzipPrecinctResults():\n",
    "    precinctZipFiles = [f for f in os.listdir(DOWNLOAD_DIR) if f.split('_')[\n",
    "        1].startswith('Precinct')]\n",
    "    currentSourceFiles = [f for f in os.listdir(PRECINCT_RESULTS_DIR)]\n",
    "    precinctZipFiles = [\n",
    "        z for z in precinctZipFiles if z.replace('_csv.zip', '.csv') not in currentSourceFiles]\n",
    "    print(f'Unzipping {len(precinctZipFiles)} precinct results files...')\n",
    "    for f in precinctZipFiles:\n",
    "        with zipfile.ZipFile(os.path.join(DOWNLOAD_DIR, f), 'r') as z:\n",
    "            z.extractall(PRECINCT_RESULTS_DIR)\n",
    "\n",
    "\n",
    "def getCountyResultsDF():\n",
    "    unzipCountyResults()\n",
    "    source_files = [f for f in os.listdir(COUNTY_RESULTS_DIR)]\n",
    "    df = pd.concat([pd.read_csv(os.path.join(COUNTY_RESULTS_DIR, f),\n",
    "                                engine='python', delimiter=\",\", encoding='utf-8', index_col=False) for f in source_files])\n",
    "    df['elec_date'] = df.apply(\n",
    "        lambda r: datetime.strptime(r['elec_date'], '%m/%d/%Y'), axis=1)\n",
    "    df['elec_date_id'] = df.apply(\n",
    "        lambda r: int(r['elec_date'].strftime('%Y%m%d')), axis=1)\n",
    "    return df\n",
    "\n",
    "\n",
    "def getPrecinctResultsDF():\n",
    "    unzipPrecinctResults()\n",
    "    source_files = [f for f in os.listdir(PRECINCT_RESULTS_DIR)]\n",
    "    df = pd.concat([pd.read_csv(os.path.join(PRECINCT_RESULTS_DIR, f),\n",
    "                                engine='python', delimiter=\",\", encoding='utf-8', index_col=False) for f in source_files])\n",
    "    df['elec_date'] = df.apply(\n",
    "        lambda r: datetime.strptime(r['elec_date'], '%m/%d/%Y'), axis=1)\n",
    "    df['elec_date_id'] = df.apply(\n",
    "        lambda r: int(r['elec_date'].strftime('%Y%m%d')), axis=1)\n",
    "    return df\n",
    "\n",
    "\n",
    "def dropTable(table):\n",
    "    connection = db.engine.raw_connection()\n",
    "    cursor = connection.cursor()\n",
    "    command = f\"DROP TABLE IF EXISTS {table};\"\n",
    "    cursor.execute(command)\n",
    "    connection.commit()\n",
    "    cursor.close()\n"
   ]
  },
  {
   "cell_type": "code",
   "execution_count": 2,
   "metadata": {},
   "outputs": [],
   "source": [
    "db.drop_all()\n",
    "db.create_all()\n"
   ]
  },
  {
   "cell_type": "code",
   "execution_count": 3,
   "metadata": {},
   "outputs": [
    {
     "name": "stdout",
     "output_type": "stream",
     "text": [
      "County.load_dataframe: 77 rows\n",
      "  Dropped DF columns: Unnamed: 0, total_precincts, geometry\n",
      "Precinct.load_dataframe: 1948 rows\n",
      "  Dropped DF columns: Unnamed: 0\n"
     ]
    },
    {
     "data": {
      "text/plain": [
       "{'rows': 1948}"
      ]
     },
     "execution_count": 3,
     "metadata": {},
     "output_type": "execute_result"
    }
   ],
   "source": [
    "ok = State()\n",
    "ok.id = 40\n",
    "ok.name = \"Oklahoma\"\n",
    "ok.postal_code = \"OK\"\n",
    "db.session.add(ok)\n",
    "db.session.commit()\n",
    "\n",
    "df_counties = pd.read_csv(os.path.join(SOURCE_DIR, 'counties/ok_counties.csv'))\n",
    "df_precincts = pd.read_csv(os.path.join(\n",
    "    SOURCE_DIR, 'precincts/ok_precincts.csv'))\n",
    "df_precincts['county_id'] = df_precincts.apply(\n",
    "    lambda r: df_counties[df_counties['id'] == r['county_id']].iloc[0]['geoid'], axis=1)\n",
    "df_counties = df_counties.drop(columns=['id']).rename(columns={'geoid': 'id'})\n",
    "County.load_dataframe(df_counties)\n",
    "Precinct.load_dataframe(df_precincts)\n"
   ]
  },
  {
   "cell_type": "code",
   "execution_count": 4,
   "metadata": {},
   "outputs": [
    {
     "data": {
      "text/html": [
       "<div>\n",
       "<style scoped>\n",
       "    .dataframe tbody tr th:only-of-type {\n",
       "        vertical-align: middle;\n",
       "    }\n",
       "\n",
       "    .dataframe tbody tr th {\n",
       "        vertical-align: top;\n",
       "    }\n",
       "\n",
       "    .dataframe thead th {\n",
       "        text-align: right;\n",
       "    }\n",
       "</style>\n",
       "<table border=\"1\" class=\"dataframe\">\n",
       "  <thead>\n",
       "    <tr style=\"text-align: right;\">\n",
       "      <th></th>\n",
       "      <th>elec_date</th>\n",
       "      <th>entity_description</th>\n",
       "      <th>race_number</th>\n",
       "      <th>race_description</th>\n",
       "      <th>race_party</th>\n",
       "      <th>tot_race_prec</th>\n",
       "      <th>race_prec_reporting</th>\n",
       "      <th>cand_number</th>\n",
       "      <th>cand_name</th>\n",
       "      <th>cand_party</th>\n",
       "      <th>cand_absmail_votes</th>\n",
       "      <th>cand_early_votes</th>\n",
       "      <th>cand_elecday_votes</th>\n",
       "      <th>cand_tot_votes</th>\n",
       "      <th>race_county_owner</th>\n",
       "    </tr>\n",
       "  </thead>\n",
       "  <tbody>\n",
       "    <tr>\n",
       "      <th>0</th>\n",
       "      <td>4/7/2015</td>\n",
       "      <td>FEDERAL, STATE AND COUNTY</td>\n",
       "      <td>11001</td>\n",
       "      <td>FOR STATE SENATOR DISTRICT 11 (UNEXPIRED TERM)</td>\n",
       "      <td>DEM</td>\n",
       "      <td>35.0</td>\n",
       "      <td>35.0</td>\n",
       "      <td>1</td>\n",
       "      <td>KEVIN MATTHEWS</td>\n",
       "      <td>DEM</td>\n",
       "      <td>88</td>\n",
       "      <td>73</td>\n",
       "      <td>1458</td>\n",
       "      <td>1619</td>\n",
       "      <td>NaN</td>\n",
       "    </tr>\n",
       "    <tr>\n",
       "      <th>1</th>\n",
       "      <td>4/7/2015</td>\n",
       "      <td>FEDERAL, STATE AND COUNTY</td>\n",
       "      <td>11001</td>\n",
       "      <td>FOR STATE SENATOR DISTRICT 11 (UNEXPIRED TERM)</td>\n",
       "      <td>DEM</td>\n",
       "      <td>35.0</td>\n",
       "      <td>35.0</td>\n",
       "      <td>2</td>\n",
       "      <td>REGINA GOODWIN</td>\n",
       "      <td>DEM</td>\n",
       "      <td>73</td>\n",
       "      <td>95</td>\n",
       "      <td>1149</td>\n",
       "      <td>1317</td>\n",
       "      <td>NaN</td>\n",
       "    </tr>\n",
       "    <tr>\n",
       "      <th>2</th>\n",
       "      <td>4/7/2015</td>\n",
       "      <td>FEDERAL, STATE AND COUNTY</td>\n",
       "      <td>11001</td>\n",
       "      <td>FOR STATE SENATOR DISTRICT 11 (UNEXPIRED TERM)</td>\n",
       "      <td>DEM</td>\n",
       "      <td>35.0</td>\n",
       "      <td>35.0</td>\n",
       "      <td>3</td>\n",
       "      <td>HEATHER NASH</td>\n",
       "      <td>DEM</td>\n",
       "      <td>17</td>\n",
       "      <td>12</td>\n",
       "      <td>457</td>\n",
       "      <td>486</td>\n",
       "      <td>NaN</td>\n",
       "    </tr>\n",
       "    <tr>\n",
       "      <th>3</th>\n",
       "      <td>4/7/2015</td>\n",
       "      <td>BECKHAM COUNTY</td>\n",
       "      <td>30001</td>\n",
       "      <td>COUNTY QUESTION</td>\n",
       "      <td>NaN</td>\n",
       "      <td>13.0</td>\n",
       "      <td>13.0</td>\n",
       "      <td>1</td>\n",
       "      <td>FOR THE PROPOSITION - YES</td>\n",
       "      <td>NaN</td>\n",
       "      <td>41</td>\n",
       "      <td>34</td>\n",
       "      <td>1272</td>\n",
       "      <td>1347</td>\n",
       "      <td>BECKHAM</td>\n",
       "    </tr>\n",
       "    <tr>\n",
       "      <th>4</th>\n",
       "      <td>4/7/2015</td>\n",
       "      <td>BECKHAM COUNTY</td>\n",
       "      <td>30001</td>\n",
       "      <td>COUNTY QUESTION</td>\n",
       "      <td>NaN</td>\n",
       "      <td>13.0</td>\n",
       "      <td>13.0</td>\n",
       "      <td>2</td>\n",
       "      <td>AGAINST THE PROPOSITION - NO</td>\n",
       "      <td>NaN</td>\n",
       "      <td>15</td>\n",
       "      <td>15</td>\n",
       "      <td>919</td>\n",
       "      <td>949</td>\n",
       "      <td>BECKHAM</td>\n",
       "    </tr>\n",
       "  </tbody>\n",
       "</table>\n",
       "</div>"
      ],
      "text/plain": [
       "  elec_date         entity_description  race_number  \\\n",
       "0  4/7/2015  FEDERAL, STATE AND COUNTY        11001   \n",
       "1  4/7/2015  FEDERAL, STATE AND COUNTY        11001   \n",
       "2  4/7/2015  FEDERAL, STATE AND COUNTY        11001   \n",
       "3  4/7/2015             BECKHAM COUNTY        30001   \n",
       "4  4/7/2015             BECKHAM COUNTY        30001   \n",
       "\n",
       "                                 race_description race_party  tot_race_prec  \\\n",
       "0  FOR STATE SENATOR DISTRICT 11 (UNEXPIRED TERM)        DEM           35.0   \n",
       "1  FOR STATE SENATOR DISTRICT 11 (UNEXPIRED TERM)        DEM           35.0   \n",
       "2  FOR STATE SENATOR DISTRICT 11 (UNEXPIRED TERM)        DEM           35.0   \n",
       "3                                 COUNTY QUESTION        NaN           13.0   \n",
       "4                                 COUNTY QUESTION        NaN           13.0   \n",
       "\n",
       "   race_prec_reporting  cand_number                     cand_name cand_party  \\\n",
       "0                 35.0            1                KEVIN MATTHEWS        DEM   \n",
       "1                 35.0            2                REGINA GOODWIN        DEM   \n",
       "2                 35.0            3                  HEATHER NASH        DEM   \n",
       "3                 13.0            1     FOR THE PROPOSITION - YES        NaN   \n",
       "4                 13.0            2  AGAINST THE PROPOSITION - NO        NaN   \n",
       "\n",
       "   cand_absmail_votes  cand_early_votes  cand_elecday_votes  cand_tot_votes  \\\n",
       "0                  88                73                1458            1619   \n",
       "1                  73                95                1149            1317   \n",
       "2                  17                12                 457             486   \n",
       "3                  41                34                1272            1347   \n",
       "4                  15                15                 919             949   \n",
       "\n",
       "  race_county_owner  \n",
       "0               NaN  \n",
       "1               NaN  \n",
       "2               NaN  \n",
       "3           BECKHAM  \n",
       "4           BECKHAM  "
      ]
     },
     "execution_count": 4,
     "metadata": {},
     "output_type": "execute_result"
    }
   ],
   "source": [
    "\n",
    "SOURCE_DIR = os.path.join(os.getcwd(), 'data/source/state_election_results')\n",
    "STAGING_ROOT = os.path.join(os.getcwd(), 'data/staging')\n",
    "\n",
    "source_files = [f for f in os.listdir(SOURCE_DIR)]\n",
    "df_source = pd.concat([pd.read_csv(os.path.join(SOURCE_DIR, f),\n",
    "                                   engine='python', delimiter=\",\", encoding='utf-8', index_col=False) for f in source_files])\n",
    "\n",
    "df_source.head()\n"
   ]
  },
  {
   "cell_type": "code",
   "execution_count": 5,
   "metadata": {},
   "outputs": [
    {
     "name": "stdout",
     "output_type": "stream",
     "text": [
      "ElectionDate.load_dataframe: 100 rows\n"
     ]
    }
   ],
   "source": [
    "# import election_dates\n",
    "df_dates = pd.read_csv(os.path.join(STAGING_ROOT, 'election_dates.csv'))\n",
    "ElectionDate.load_dataframe(df_dates)\n",
    "\n",
    "df_source['elec_date'] = df_source.apply(\n",
    "    lambda r: datetime.strptime(r['elec_date'], '%m/%d/%Y'), axis=1)\n",
    "df_source['elec_date_id'] = df_source.apply(\n",
    "    lambda r: int(r['elec_date'].strftime('%Y%m%d')), axis=1)\n"
   ]
  },
  {
   "cell_type": "code",
   "execution_count": 6,
   "metadata": {},
   "outputs": [
    {
     "name": "stdout",
     "output_type": "stream",
     "text": [
      "ElectionRace.load_dataframe: 8384 rows\n",
      "  Missing Table columns: id\n"
     ]
    },
    {
     "data": {
      "text/html": [
       "<div>\n",
       "<style scoped>\n",
       "    .dataframe tbody tr th:only-of-type {\n",
       "        vertical-align: middle;\n",
       "    }\n",
       "\n",
       "    .dataframe tbody tr th {\n",
       "        vertical-align: top;\n",
       "    }\n",
       "\n",
       "    .dataframe thead th {\n",
       "        text-align: right;\n",
       "    }\n",
       "</style>\n",
       "<table border=\"1\" class=\"dataframe\">\n",
       "  <thead>\n",
       "    <tr style=\"text-align: right;\">\n",
       "      <th></th>\n",
       "      <th>id</th>\n",
       "      <th>race_number</th>\n",
       "      <th>elec_date_id</th>\n",
       "      <th>race_description</th>\n",
       "    </tr>\n",
       "  </thead>\n",
       "  <tbody>\n",
       "    <tr>\n",
       "      <th>0</th>\n",
       "      <td>1</td>\n",
       "      <td>6061</td>\n",
       "      <td>20130611</td>\n",
       "      <td>PROPOSITION  BLAINE COUNTY EMS</td>\n",
       "    </tr>\n",
       "    <tr>\n",
       "      <th>1</th>\n",
       "      <td>2</td>\n",
       "      <td>6061</td>\n",
       "      <td>20140826</td>\n",
       "      <td>PROPOSITION OKEENE PUBLIC SCHOOLS</td>\n",
       "    </tr>\n",
       "    <tr>\n",
       "      <th>2</th>\n",
       "      <td>3</td>\n",
       "      <td>6141</td>\n",
       "      <td>20130402</td>\n",
       "      <td>PROPOSITION   CITY OF NORMAN - PROPOSITION</td>\n",
       "    </tr>\n",
       "    <tr>\n",
       "      <th>3</th>\n",
       "      <td>4</td>\n",
       "      <td>6141</td>\n",
       "      <td>20140401</td>\n",
       "      <td>PROPOSITION  CITY OF NORMAN - PROPOSITION</td>\n",
       "    </tr>\n",
       "    <tr>\n",
       "      <th>4</th>\n",
       "      <td>5</td>\n",
       "      <td>6241</td>\n",
       "      <td>20131008</td>\n",
       "      <td>PROPOSITION  SPECIAL COUNTY</td>\n",
       "    </tr>\n",
       "  </tbody>\n",
       "</table>\n",
       "</div>"
      ],
      "text/plain": [
       "   id race_number  elec_date_id                            race_description\n",
       "0   1        6061      20130611              PROPOSITION  BLAINE COUNTY EMS\n",
       "1   2        6061      20140826           PROPOSITION OKEENE PUBLIC SCHOOLS\n",
       "2   3        6141      20130402  PROPOSITION   CITY OF NORMAN - PROPOSITION\n",
       "3   4        6141      20140401   PROPOSITION  CITY OF NORMAN - PROPOSITION\n",
       "4   5        6241      20131008                 PROPOSITION  SPECIAL COUNTY"
      ]
     },
     "execution_count": 6,
     "metadata": {},
     "output_type": "execute_result"
    }
   ],
   "source": [
    "\n",
    "# import election_races\n",
    "df_source.to_sql('TEMP_df_source', con=db.engine, if_exists='replace')\n",
    "q = \"\"\" \n",
    "    SELECT \n",
    "        race_number, \n",
    "        elec_date,\n",
    "        elec_date_id,\n",
    "        entity_description as race_entity_description,\n",
    "        race_county_owner,\n",
    "        race_description,\n",
    "        race_party,\n",
    "        tot_race_prec as race_tot_prec,\t\n",
    "        race_prec_reporting,\n",
    "        SUM(cand_tot_votes) as race_tot_votes,\n",
    "        SUM(cand_absmail_votes) as race_absmail_votes,\n",
    "        SUM(cand_early_votes) as race_early_votes,\t\n",
    "        SUM(cand_elecday_votes) as race_elecday_votes,\n",
    "        MAX(cand_number) as race_num_candidates\n",
    "    FROM TEMP_df_source\n",
    "        GROUP BY race_number, \n",
    "        entity_description,\n",
    "        race_county_owner,\n",
    "        elec_date, \n",
    "        elec_date_id,\n",
    "        race_description,\n",
    "        race_party,\n",
    "        tot_race_prec,\n",
    "        race_prec_reporting\n",
    "     \"\"\"\n",
    "df_election_races = pd.read_sql(q, con=db.engine)\n",
    "\n",
    "ElectionRace.load_dataframe(df_election_races)\n",
    "connection = db.engine.raw_connection()\n",
    "cursor = connection.cursor()\n",
    "command = \"DROP TABLE IF EXISTS TEMP_df_source;\"\n",
    "cursor.execute(command)\n",
    "connection.commit()\n",
    "cursor.close()\n",
    "\n",
    "df_election_races = pd.read_sql(\n",
    "    \"SELECT id, race_number, elec_date_id, race_description FROM election_races\", con=db.engine)\n",
    "\n",
    "df_election_races.head()"
   ]
  },
  {
   "cell_type": "code",
   "execution_count": 7,
   "metadata": {},
   "outputs": [
    {
     "name": "stdout",
     "output_type": "stream",
     "text": [
      "ElectionRaceCandidate.load_dataframe: 19231 rows\n",
      "  Missing Table columns: id\n"
     ]
    },
    {
     "data": {
      "text/plain": [
       "{'rows': 19231}"
      ]
     },
     "execution_count": 7,
     "metadata": {},
     "output_type": "execute_result"
    }
   ],
   "source": [
    "df_election_race_candidates = df_source[['elec_date_id', 'race_number', 'race_description', 'cand_number', 'cand_name', 'cand_party', 'cand_absmail_votes',\n",
    "                                         'cand_early_votes', 'cand_elecday_votes', 'cand_tot_votes']]\n",
    "df_election_race_candidates.to_sql(\n",
    "    'TEMP_df_election_race_candidates', con=db.engine, if_exists='replace')\n",
    "q = \"\"\"\n",
    "    SELECT \n",
    "    r.id as election_race_id,\n",
    "    t.cand_number,\n",
    "    t.cand_name,\n",
    "    t.cand_party,\n",
    "    case when m.winning_votes = t.cand_tot_votes then TRUE\n",
    "        else FALSE end as cand_is_winner,\n",
    "    t.cand_absmail_votes,\n",
    "    t.cand_early_votes,\n",
    "    t.cand_elecday_votes, \n",
    "    t.cand_tot_votes,\n",
    "    CAST(t.cand_tot_votes as float)/r.race_tot_votes as percent_tot_votes,\n",
    "    CAST(t.cand_absmail_votes as float)/NULLIF(r.race_absmail_votes, 0) as percent_absmail_votes,\n",
    "    CAST(t.cand_elecday_votes as float)/NULLIF(r.race_elecday_votes, 0) as percent_elecday_votes,\n",
    "    CAST(t.cand_early_votes as float)/NULLIF(r.race_early_votes, 0) as percent_early_votes\n",
    "    FROM election_races as r\n",
    "    INNER JOIN TEMP_df_election_race_candidates as t\n",
    "    ON r.elec_date_id = t.elec_date_id\n",
    "    and r.race_number = t.race_number\n",
    "    and r.race_description = t.race_description\n",
    "    INNER JOIN (\n",
    "        SELECT\n",
    "        i.elec_date_id,\n",
    "        i.race_number,\n",
    "        i.race_description,\n",
    "        max(i.cand_tot_votes) as winning_votes\n",
    "        FROM TEMP_df_election_race_candidates as i\n",
    "        GROUP BY i.elec_date_id, i.race_number, i.race_description\n",
    "    ) as m\n",
    "    ON t.elec_date_id = m.elec_date_id\n",
    "    and t.race_number = m.race_number\n",
    "    and t.race_description = m.race_description\n",
    "    \"\"\"\n",
    "df_election_race_candidates = pd.read_sql(q, con=db.engine)\n",
    "connection = db.engine.raw_connection()\n",
    "cursor = connection.cursor()\n",
    "command = \"DROP TABLE IF EXISTS TEMP_df_election_race_candidates;\"\n",
    "cursor.execute(command)\n",
    "connection.commit()\n",
    "cursor.close()\n",
    "ElectionRaceCandidate.load_dataframe(df_election_race_candidates)\n"
   ]
  },
  {
   "cell_type": "code",
   "execution_count": 8,
   "metadata": {},
   "outputs": [
    {
     "name": "stdout",
     "output_type": "stream",
     "text": [
      "Unzipping 0 county results files...\n"
     ]
    }
   ],
   "source": [
    "df_county_results = getCountyResultsDF()\n",
    "# import TEMP_df_county_results\n",
    "\n",
    "df_county_results.to_sql('TEMP_df_county_results',\n",
    "                         con=db.engine, if_exists='replace')\n"
   ]
  },
  {
   "cell_type": "code",
   "execution_count": 9,
   "metadata": {},
   "outputs": [
    {
     "name": "stdout",
     "output_type": "stream",
     "text": [
      "ElectionRace.load_dataframe: 49 rows\n",
      "  Missing Table columns: id\n"
     ]
    },
    {
     "data": {
      "text/plain": [
       "{'rows': 8433}"
      ]
     },
     "execution_count": 9,
     "metadata": {},
     "output_type": "execute_result"
    }
   ],
   "source": [
    "# Load missing county-level results to election_results\n",
    "q = \"\"\"\n",
    "    SELECT \n",
    "        t.race_number, \n",
    "        t.elec_date,\n",
    "        t.elec_date_id,\n",
    "        t.entity_description as race_entity_description,\n",
    "        t.race_county_owner,\n",
    "        t.race_description,\n",
    "        t.race_party,\n",
    "        t.tot_race_prec as race_tot_prec,\t\n",
    "        t.race_prec_reporting,\n",
    "        SUM(t.cand_tot_votes) as race_tot_votes,\n",
    "        SUM(t.cand_absmail_votes) as race_absmail_votes,\n",
    "        SUM(t.cand_early_votes) as race_early_votes,\t\n",
    "        SUM(t.cand_elecday_votes) as race_elecday_votes,\n",
    "        MAX(t.cand_number) as race_num_candidates\n",
    "    FROM TEMP_df_county_results as t\n",
    "    LEFT JOIN election_races as r\n",
    "        on t.elec_date_id = r.elec_date_id\n",
    "        and t.race_number = r.race_number\n",
    "        and t.race_description like r.race_description\n",
    "    WHERE r.id is null\n",
    "    GROUP BY t.race_number, \n",
    "        t.elec_date,\n",
    "        t.elec_date_id,\n",
    "        t.entity_description,\n",
    "        t.race_county_owner,\n",
    "        t.race_description,\n",
    "        t.race_party,\n",
    "        t.tot_race_prec,\t\n",
    "        t.race_prec_reporting\n",
    "    \n",
    "     \"\"\"\n",
    "df_missing_election_races = pd.read_sql(q, con=db.engine)\n",
    "ElectionRace.load_dataframe(df_missing_election_races)\n"
   ]
  },
  {
   "cell_type": "code",
   "execution_count": 10,
   "metadata": {},
   "outputs": [
    {
     "name": "stdout",
     "output_type": "stream",
     "text": [
      "ElectionRaceCandidate.load_dataframe: 98 rows\n",
      "  Missing Table columns: id\n"
     ]
    },
    {
     "data": {
      "text/plain": [
       "{'rows': 19329}"
      ]
     },
     "execution_count": 10,
     "metadata": {},
     "output_type": "execute_result"
    }
   ],
   "source": [
    "# Load missing county-level candidates to election_result_candidates\n",
    "q = \"\"\"\n",
    "        SELECT \n",
    "        r.id as election_race_id,\n",
    "        t.cand_number,\n",
    "        t.cand_name,\n",
    "        t.cand_party,\n",
    "        r.race_tot_votes,\n",
    "        r.race_elecday_votes,\n",
    "        r.race_absmail_votes,\n",
    "        r.race_early_votes,\n",
    "        SUM(t.cand_absmail_votes) as cand_absmail_votes,\n",
    "        SUM(t.cand_early_votes) as cand_early_votes,\n",
    "        SUM(t.cand_elecday_votes) as cand_elecday_votes, \n",
    "        SUM(t.cand_tot_votes) as cand_tot_votes\n",
    "        FROM TEMP_df_county_results as t\n",
    "        INNER JOIN election_races as r\n",
    "            ON t.elec_date_id = r.elec_date_id\n",
    "            and t.race_number = r.race_number\n",
    "            and t.race_description = r.race_description\n",
    "        WHERE NOT EXISTS (\n",
    "            SELECT * FROM election_race_candidates as c \n",
    "            WHERE c.election_race_id = r.id\n",
    "            and c.cand_number = t.cand_number\n",
    "        )\n",
    "        GROUP BY r.id,\n",
    "        r.race_tot_votes,\n",
    "        r.race_elecday_votes,\n",
    "        r.race_absmail_votes,\n",
    "        r.race_early_votes,\n",
    "        t.cand_number,\n",
    "        t.cand_name,\n",
    "        t.cand_party\n",
    "\"\"\"\n",
    "df_missing_election_candidates = pd.read_sql(q, con=db.engine)\n",
    "df_missing_election_candidates.to_sql('TEMP_missing_candidates',\n",
    "                                      con=db.engine, if_exists='replace')\n",
    "q = \"\"\"\n",
    "    SELECT \n",
    "    t.election_race_id,\n",
    "    t.cand_number,\n",
    "    t.cand_name,\n",
    "    t.cand_party,\n",
    "    case when m.winning_votes = t.cand_tot_votes then TRUE\n",
    "        else FALSE end as cand_is_winner,\n",
    "    t.cand_absmail_votes,\n",
    "    t.cand_early_votes,\n",
    "    t.cand_elecday_votes, \n",
    "    t.cand_tot_votes,\n",
    "    CAST(t.cand_tot_votes as float)/t.race_tot_votes as percent_tot_votes,\n",
    "    CAST(t.cand_absmail_votes as float)/NULLIF(t.race_absmail_votes, 0) as percent_absmail_votes,\n",
    "    CAST(t.cand_elecday_votes as float)/NULLIF(t.race_elecday_votes, 0) as percent_elecday_votes,\n",
    "    CAST(t.cand_early_votes as float)/NULLIF(t.race_early_votes, 0) as percent_early_votes\n",
    "    FROM TEMP_missing_candidates as t\n",
    "    INNER JOIN (\n",
    "        SELECT\n",
    "        i.election_race_id,\n",
    "        max(i.cand_tot_votes) as winning_votes\n",
    "        FROM TEMP_missing_candidates as i\n",
    "        GROUP BY i.election_race_id\n",
    "    ) as m\n",
    "    ON m.election_race_id = t.election_race_id\n",
    "    \"\"\"\n",
    "df_missing_election_candidates = pd.read_sql(q, con=db.engine)\n",
    "ElectionRaceCandidate.load_dataframe(df_missing_election_candidates)"
   ]
  },
  {
   "cell_type": "code",
   "execution_count": 11,
   "metadata": {},
   "outputs": [
    {
     "name": "stdout",
     "output_type": "stream",
     "text": [
      "CountyElectionResult.load_dataframe: 23538 rows\n",
      "  Missing Table columns: id, county_tot_prec, county_prec_reporting\n"
     ]
    },
    {
     "data": {
      "text/plain": [
       "{'rows': 23538}"
      ]
     },
     "execution_count": 11,
     "metadata": {},
     "output_type": "execute_result"
    }
   ],
   "source": [
    "q = \"\"\"\n",
    "    SELECT\n",
    "        cn.id as county_id,\n",
    "        r.id as election_race_id,\n",
    "        SUM(t.cand_tot_votes) as county_tot_votes,\n",
    "        SUM(t.cand_absmail_votes) as county_absmail_votes,\n",
    "        SUM(t.cand_elecday_votes) as county_elecday_votes,\n",
    "        SUM(t.cand_early_votes) as county_early_votes,\n",
    "        CAST(SUM(t.cand_tot_votes) as float) / NULLIF(r.race_tot_votes, 0) as percent_tot_votes,\n",
    "        CAST(SUM(t.cand_absmail_votes) as float) / NULLIF(r.race_absmail_votes, 0)  as percent_absmail_votes,\n",
    "        CAST(SUM(t.cand_elecday_votes) as float) / NULLIF(r.race_elecday_votes, 0)  as percent_elecday_votes,\n",
    "        CAST(SUM(t.cand_early_votes) as float) / NULLIF(r.race_early_votes, 0) as percent_early_votes\n",
    "    FROM TEMP_df_county_results as t\n",
    "    INNER JOIN election_races as r\n",
    "        ON t.elec_date_id = r.elec_date_id\n",
    "        and t.race_number = r.race_number\n",
    "        and t.race_description = r.race_description\n",
    "    INNER JOIN counties as cn\n",
    "        on t.county = REPLACE(UPPER(cn.name), 'LE ', 'LE')\n",
    "    GROUP BY cn.id,\n",
    "        r.id,\n",
    "        r.race_tot_votes,\n",
    "        r.race_elecday_votes,\n",
    "        r.race_absmail_votes,\n",
    "        r.race_early_votes\n",
    "\"\"\"\n",
    "df_county_election_results = pd.read_sql(q, con=db.engine)\n",
    "CountyElectionResult.load_dataframe(df_county_election_results)\n"
   ]
  },
  {
   "cell_type": "code",
   "execution_count": 12,
   "metadata": {},
   "outputs": [
    {
     "name": "stdout",
     "output_type": "stream",
     "text": [
      "CountyElectionCandidateResult.load_dataframe: 58235 rows\n",
      "  Dropped DF columns: index\n",
      "  Missing Table columns: id\n"
     ]
    },
    {
     "data": {
      "text/plain": [
       "{'rows': 58235}"
      ]
     },
     "execution_count": 12,
     "metadata": {},
     "output_type": "execute_result"
    }
   ],
   "source": [
    "\n",
    "q = \"\"\"\n",
    "WITH results_cte\n",
    "as\n",
    "(\n",
    "    SELECT\n",
    "    cr.id as county_election_result_id\n",
    "    , cand.id as election_race_candidate_id\n",
    "    , t.cand_absmail_votes\n",
    "    , t.cand_early_votes\n",
    "    , t.cand_elecday_votes\n",
    "    , t.cand_tot_votes\n",
    "    , CAST(t.cand_tot_votes as float) / NULLIF(cr.county_tot_votes, 0) as percent_tot_votes\n",
    "    , CAST(t.cand_absmail_votes as float) / NULLIF(cr.county_absmail_votes, 0) as percent_absmail_votes\n",
    "    , CAST(t.cand_elecday_votes as float) / NULLIF(cr.county_elecday_votes, 0) as percent_elecday_votes\n",
    "    , CAST(t.cand_early_votes as float) / NULLIF(cr.county_early_votes, 0) as percent_early_votes\n",
    "    FROM TEMP_df_county_results as t\n",
    "    INNER JOIN election_races as r\n",
    "        ON t.elec_date_id = r.elec_date_id\n",
    "        and t.race_number = r.race_number\n",
    "        and t.race_description = r.race_description\n",
    "    INNER JOIN counties as cn\n",
    "        on t.county = REPLACE(UPPER(cn.name), 'LE ', 'LE')\n",
    "    INNER JOIN county_election_results as cr\n",
    "        ON r.id = cr.election_race_id\n",
    "        and cn.id = cr.county_id\n",
    "    INNER JOIN election_race_candidates as cand\n",
    "        ON t.cand_number = cand.cand_number\n",
    "        and r.id = cand.election_race_id\n",
    ")\n",
    "SELECT\n",
    "    r.*\n",
    "FROM results_cte as r\n",
    "\"\"\"\n",
    "df_county_election_candidate_results = pd.read_sql(q, con=db.engine)\n",
    "df_county_election_candidate_results.to_sql(\n",
    "    'TEMP_df_county_election_candidate_results', con=db.engine, if_exists='replace')\n",
    "q = \"\"\"\n",
    "WITH winner_cte as (\n",
    "    SELECT\n",
    "        r.county_election_result_id\n",
    "        , MAX(r.cand_tot_votes) as winning_votes\n",
    "    FROM TEMP_df_county_election_candidate_results as r\n",
    "    GROUP BY r.county_election_result_id\n",
    ")\n",
    "SELECT r.*,\n",
    "    CASE\n",
    "        when w.winning_votes = r.cand_tot_votes then TRUE\n",
    "        else FALSE end as cand_is_winner\n",
    "FROM TEMP_df_county_election_candidate_results as r\n",
    "INNER JOIN winner_cte as w\n",
    "    ON r.county_election_result_id = w.county_election_result_id\n",
    "\"\"\"\n",
    "df_county_election_candidate_results = pd.read_sql(q, con=db.engine)\n",
    "CountyElectionCandidateResult.load_dataframe(\n",
    "    df_county_election_candidate_results)\n"
   ]
  },
  {
   "cell_type": "code",
   "execution_count": 13,
   "metadata": {},
   "outputs": [
    {
     "name": "stdout",
     "output_type": "stream",
     "text": [
      "Unzipping 0 precinct results files...\n",
      "Loaded 1092862 rows for df_precinct_election_results\n",
      "Precinct.load_dataframe: 16 rows\n",
      "  Missing Table columns: county_number, ok_commissioner_district_id, ok_house_district_id, ok_senate_district_id, us_congressional_district_id\n"
     ]
    },
    {
     "data": {
      "text/plain": [
       "{'rows': 1964}"
      ]
     },
     "execution_count": 13,
     "metadata": {},
     "output_type": "execute_result"
    }
   ],
   "source": [
    "df_precinct_election_results = getPrecinctResultsDF()\n",
    "print(f\"Loaded {len(df_precinct_election_results.index)} rows for df_precinct_election_results\")\n",
    "df_precinct_election_results.to_sql(\n",
    "    'TEMP_df_precinct_election_results', con=db.engine, if_exists='replace')\n",
    "\n",
    "q = \"\"\"\n",
    "    SELECT DISTINCT\n",
    "    t.precinct as id,\n",
    "    0 as ok_district_id,\n",
    "    t.precinct as precinct_num,\n",
    "    0 as county_id,\n",
    "    0 as SHAPE_Area,\n",
    "    0 as SHAPE_center_lat,\n",
    "    0 as SHAPE_center_lon\n",
    "    FROM TEMP_df_precinct_election_results as t\n",
    "    LEFT JOIN precincts as pct\n",
    "        ON CAST(t.precinct as int) = pct.id\n",
    "    WHERE pct.id is null\n",
    "\"\"\"\n",
    "df_missing_pcts = pd.read_sql(q, con=db.engine)\n",
    "unknownCounty = County()\n",
    "unknownCounty.id = 0\n",
    "unknownCounty.name = 'unknown'\n",
    "unknownCounty.state_id = 40\n",
    "unknownCounty.SHAPE_Area = 0\n",
    "unknownCounty.SHAPE_center_lat = 0\n",
    "unknownCounty.SHAPE_center_lon = 0\n",
    "db.session.add(unknownCounty)\n",
    "db.session.commit()\n",
    "Precinct.load_dataframe(df_missing_pcts)\n",
    "\n"
   ]
  },
  {
   "cell_type": "code",
   "execution_count": 14,
   "metadata": {},
   "outputs": [
    {
     "name": "stdout",
     "output_type": "stream",
     "text": [
      "PrecinctElectionResult.load_dataframe: 419896 rows\n",
      "  Missing Table columns: id\n"
     ]
    },
    {
     "data": {
      "text/plain": [
       "{'rows': 419896}"
      ]
     },
     "execution_count": 14,
     "metadata": {},
     "output_type": "execute_result"
    }
   ],
   "source": [
    "q = \"\"\"\n",
    "    SELECT\n",
    "    cast(t.precinct as int) as precinct_id\n",
    "    , r.id as election_race_id\n",
    "    , SUM(t.cand_tot_votes) as precinct_tot_votes\n",
    "    , SUM(t.cand_absmail_votes) as precinct_absmail_votes\n",
    "    , SUM(t.cand_early_votes) as precinct_early_votes\n",
    "    , SUM(t.cand_elecday_votes) as precinct_elecday_votes\n",
    "    FROM TEMP_df_precinct_election_results as t\n",
    "    INNER JOIN election_races as r\n",
    "        ON t.elec_date_id = r.elec_date_id\n",
    "        and t.race_number = r.race_number\n",
    "        and t.race_description = r.race_description\n",
    "    GROUP BY t.precinct, r.id\n",
    "\"\"\"\n",
    "df_precinct_election_results = pd.read_sql(q, con=db.engine)\n",
    "PrecinctElectionResult.load_dataframe(df_precinct_election_results)\n",
    "\n"
   ]
  },
  {
   "cell_type": "code",
   "execution_count": 15,
   "metadata": {},
   "outputs": [
    {
     "name": "stdout",
     "output_type": "stream",
     "text": [
      "PrecinctElectionCandidateResult.load_dataframe: 1083476 rows\n",
      "  Dropped DF columns: index, election_race_id\n",
      "  Missing Table columns: id\n"
     ]
    },
    {
     "data": {
      "text/plain": [
       "{'rows': 1083476}"
      ]
     },
     "execution_count": 15,
     "metadata": {},
     "output_type": "execute_result"
    }
   ],
   "source": [
    "q = \"\"\"\n",
    "    SELECT\n",
    "    cr.id as election_race_candidate_id\n",
    "    , pr.id as precinct_election_result_id\n",
    "    , r.id as election_race_id\n",
    "    , t.cand_tot_votes\n",
    "    , t.cand_absmail_votes\n",
    "    , t.cand_early_votes\n",
    "    , t.cand_elecday_votes\n",
    "    , CAST(t.cand_tot_votes as float)/NULLIF(pr.precinct_tot_votes, 0) as percent_tot_votes\n",
    "    , CAST(t.cand_absmail_votes as float)/NULLIF(pr.precinct_absmail_votes, 0) as percent_absmail_votes\n",
    "    , CAST(t.cand_early_votes as float)/NULLIF(pr.precinct_early_votes, 0) as percent_early_votes\n",
    "    , CAST(t.cand_elecday_votes as float)/NULLIF(pr.precinct_elecday_votes, 0) as percent_elecday_votes\n",
    "    FROM TEMP_df_precinct_election_results as t\n",
    "    INNER JOIN election_races as r\n",
    "        ON t.elec_date_id = r.elec_date_id\n",
    "        and t.race_number = r.race_number\n",
    "        and t.race_description = r.race_description\n",
    "    INNER JOIN election_race_candidates as cr\n",
    "        ON r.id = cr.election_race_id\n",
    "        and t.cand_number = cr.cand_number\n",
    "    INNER JOIN precinct_election_results as pr\n",
    "        ON r.id = pr.election_race_id\n",
    "        and CAST(t.precinct as int) = pr.precinct_id\n",
    "\"\"\"\n",
    "df_precinct_candidate_results = pd.read_sql(q, con=db.engine)\n",
    "df_precinct_candidate_results.to_sql(\n",
    "    'TEMP_df_precinct_election_results', con=db.engine, if_exists='replace')\n",
    "q = \"\"\"\n",
    "    SELECT\n",
    "    t.*,\n",
    "    case\n",
    "        when w.winning_votes = t.cand_tot_votes then TRUE\n",
    "        else FALSE end as cand_is_winner\n",
    "    FROM TEMP_df_precinct_election_results as t\n",
    "    INNER JOIN (\n",
    "        SELECT\n",
    "            i.precinct_election_result_id,\n",
    "            MAX(i.cand_tot_votes) as winning_votes\n",
    "        FROM TEMP_df_precinct_election_results as i\n",
    "        GROUP BY i.precinct_election_result_id\n",
    "    ) as w\n",
    "    ON t.precinct_election_result_id = w.precinct_election_result_id\n",
    "   \n",
    "\"\"\"\n",
    "df_precinct_candidate_results = pd.read_sql(q, con=db.engine)\n",
    "PrecinctElectionCandidateResult.load_dataframe(df_precinct_candidate_results)\n"
   ]
  },
  {
   "cell_type": "code",
   "execution_count": 16,
   "metadata": {},
   "outputs": [
    {
     "name": "stdout",
     "output_type": "stream",
     "text": [
      "PrecinctResult.load_dataframe: 1083476 rows\n",
      "  Missing Table columns: id\n"
     ]
    },
    {
     "data": {
      "text/plain": [
       "{'rows': 1083476}"
      ]
     },
     "execution_count": 16,
     "metadata": {},
     "output_type": "execute_result"
    }
   ],
   "source": [
    "q = \"\"\"\n",
    "    SELECT\n",
    "        pr.precinct_id\n",
    "        , pr.election_race_id\n",
    "        , pr.precinct_tot_votes\n",
    "        , pr.precinct_absmail_votes\n",
    "        , pr.precinct_early_votes\n",
    "        , pr.precinct_elecday_votes\n",
    "        , c.election_race_candidate_id\n",
    "        , c.cand_is_winner\n",
    "        , c.cand_absmail_votes\n",
    "        , c.cand_early_votes\n",
    "        , c.cand_elecday_votes\n",
    "        , c.cand_tot_votes\n",
    "    FROM precinct_election_results as pr\n",
    "    INNER JOIN precinct_election_candidate_results as c\n",
    "        ON pr.id = c.precinct_election_result_id\n",
    "\"\"\"\n",
    "df_precinct_results = pd.read_sql(q, con=db.engine)\n",
    "PrecinctResult.load_dataframe(df_precinct_results)\n"
   ]
  },
  {
   "cell_type": "code",
   "execution_count": 17,
   "metadata": {},
   "outputs": [
    {
     "data": {
      "text/html": [
       "<div>\n",
       "<style scoped>\n",
       "    .dataframe tbody tr th:only-of-type {\n",
       "        vertical-align: middle;\n",
       "    }\n",
       "\n",
       "    .dataframe tbody tr th {\n",
       "        vertical-align: top;\n",
       "    }\n",
       "\n",
       "    .dataframe thead th {\n",
       "        text-align: right;\n",
       "    }\n",
       "</style>\n",
       "<table border=\"1\" class=\"dataframe\">\n",
       "  <thead>\n",
       "    <tr style=\"text-align: right;\">\n",
       "      <th></th>\n",
       "      <th>name</th>\n",
       "    </tr>\n",
       "  </thead>\n",
       "  <tbody>\n",
       "    <tr>\n",
       "      <th>0</th>\n",
       "      <td>election_dates</td>\n",
       "    </tr>\n",
       "    <tr>\n",
       "      <th>1</th>\n",
       "      <td>states</td>\n",
       "    </tr>\n",
       "    <tr>\n",
       "      <th>2</th>\n",
       "      <td>election_races</td>\n",
       "    </tr>\n",
       "    <tr>\n",
       "      <th>3</th>\n",
       "      <td>counties</td>\n",
       "    </tr>\n",
       "    <tr>\n",
       "      <th>4</th>\n",
       "      <td>election_race_candidates</td>\n",
       "    </tr>\n",
       "    <tr>\n",
       "      <th>5</th>\n",
       "      <td>precincts</td>\n",
       "    </tr>\n",
       "    <tr>\n",
       "      <th>6</th>\n",
       "      <td>county_election_results</td>\n",
       "    </tr>\n",
       "    <tr>\n",
       "      <th>7</th>\n",
       "      <td>county_election_candidate_results</td>\n",
       "    </tr>\n",
       "    <tr>\n",
       "      <th>8</th>\n",
       "      <td>precinct_election_results</td>\n",
       "    </tr>\n",
       "    <tr>\n",
       "      <th>9</th>\n",
       "      <td>precinct_results</td>\n",
       "    </tr>\n",
       "    <tr>\n",
       "      <th>10</th>\n",
       "      <td>precinct_election_candidate_results</td>\n",
       "    </tr>\n",
       "  </tbody>\n",
       "</table>\n",
       "</div>"
      ],
      "text/plain": [
       "                                   name\n",
       "0                        election_dates\n",
       "1                                states\n",
       "2                        election_races\n",
       "3                              counties\n",
       "4              election_race_candidates\n",
       "5                             precincts\n",
       "6               county_election_results\n",
       "7     county_election_candidate_results\n",
       "8             precinct_election_results\n",
       "9                      precinct_results\n",
       "10  precinct_election_candidate_results"
      ]
     },
     "execution_count": 17,
     "metadata": {},
     "output_type": "execute_result"
    }
   ],
   "source": [
    "\n",
    "\n",
    "\n",
    "df_tables = pd.read_sql(\n",
    "    \"SELECT name FROM sqlite_master WHERE type='table';\", con=db.engine)\n",
    "\n",
    "# drop temp tables\n",
    "for i, table in df_tables.iterrows():\n",
    "    if table['name'].startswith('TEMP_'):\n",
    "        dropTable(table['name'])\n",
    "\n",
    "pd.read_sql(\n",
    "    \"SELECT name FROM sqlite_master WHERE type='table';\", con=db.engine)\n"
   ]
  },
  {
   "cell_type": "code",
   "execution_count": 18,
   "metadata": {},
   "outputs": [],
   "source": [
    "dropTable('precinct_election_candidate_results')\n",
    "dropTable('precinct_election_results')"
   ]
  },
  {
   "cell_type": "code",
   "execution_count": null,
   "metadata": {},
   "outputs": [],
   "source": []
  }
 ],
 "metadata": {
  "interpreter": {
   "hash": "aee8b7b246df8f9039afb4144a1f6fd8d2ca17a180786b69acc140d282b71a49"
  },
  "kernelspec": {
   "display_name": "Python 3.9.5 64-bit",
   "language": "python",
   "name": "python3"
  },
  "language_info": {
   "codemirror_mode": {
    "name": "ipython",
    "version": 3
   },
   "file_extension": ".py",
   "mimetype": "text/x-python",
   "name": "python",
   "nbconvert_exporter": "python",
   "pygments_lexer": "ipython3",
   "version": "3.9.5"
  },
  "orig_nbformat": 4
 },
 "nbformat": 4,
 "nbformat_minor": 2
}
