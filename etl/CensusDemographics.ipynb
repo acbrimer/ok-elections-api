{
 "cells": [
  {
   "cell_type": "code",
   "execution_count": 2,
   "metadata": {},
   "outputs": [
    {
     "name": "stdout",
     "output_type": "stream",
     "text": [
      "                                            url  view_count\n",
      "0  https://stackoverflow.com/questions/35159967      123154\n",
      "1  https://stackoverflow.com/questions/22879669      117449\n",
      "2  https://stackoverflow.com/questions/10604135      108330\n",
      "3  https://stackoverflow.com/questions/27060396       92874\n",
      "4  https://stackoverflow.com/questions/44564887       87964\n"
     ]
    }
   ],
   "source": [
    "import os\n",
    "from google.cloud import bigquery\n",
    "\n",
    "os.environ['GOOGLE_APPLICATION_CREDENTIALS'] = '/Users/abrimerHome/Dev/OkieAnalytica/okie-analytica/ok-election-api/okie-analytica-df1dd9ca2798.json'\n",
    "\n",
    "bqclient = bigquery.Client()\n",
    "\n"
   ]
  },
  {
   "cell_type": "code",
   "execution_count": 11,
   "metadata": {},
   "outputs": [
    {
     "name": "stdout",
     "output_type": "stream",
     "text": [
      "Downloading 2010\n",
      "Downloading 2011\n",
      "Downloading 2012\n",
      "Downloading 2013\n",
      "Downloading 2014\n",
      "Downloading 2015\n",
      "Downloading 2016\n",
      "Downloading 2017\n",
      "Downloading 2018\n"
     ]
    }
   ],
   "source": [
    "import pandas as pd\n",
    "# Download query results.\n",
    "\n",
    "for year in range(2010, 2019):\n",
    "    print(f'Downloading {year}')\n",
    "    q = f\"\"\"\n",
    "    SELECT * FROM `bigquery-public-data.census_bureau_acs.blockgroup_{year}_5yr` WHERE geo_id like '40%'\n",
    "    \"\"\"\n",
    "    df = bqclient.query(q).result().to_dataframe(create_bqstorage_client=True)\n",
    "    df['year'] = year\n",
    "    df.to_csv(\n",
    "        f'/Users/abrimerHome/Dev/OkieAnalytica/okie-analytica/ok-election-api/data/source/census/ok-blockgroups/blockgroup_{year}_5yr.csv')\n"
   ]
  },
  {
   "cell_type": "code",
   "execution_count": 17,
   "metadata": {},
   "outputs": [],
   "source": [
    "q = \"\"\"SELECT \n",
    "*\n",
    "FROM `okie-analytica.geo.ok_counties`;\"\"\"\n",
    "df = bqclient.query(q).result().to_dataframe(create_bqstorage_client=True)\n",
    "df.to_csv(\n",
    "    f'/Users/abrimerHome/Dev/OkieAnalytica/okie-analytica/ok-election-api/data/source/counties/ok_counties.csv')\n"
   ]
  },
  {
   "cell_type": "code",
   "execution_count": null,
   "metadata": {},
   "outputs": [],
   "source": []
  }
 ],
 "metadata": {
  "interpreter": {
   "hash": "aee8b7b246df8f9039afb4144a1f6fd8d2ca17a180786b69acc140d282b71a49"
  },
  "kernelspec": {
   "display_name": "Python 3.9.5 64-bit",
   "language": "python",
   "name": "python3"
  },
  "language_info": {
   "codemirror_mode": {
    "name": "ipython",
    "version": 3
   },
   "file_extension": ".py",
   "mimetype": "text/x-python",
   "name": "python",
   "nbconvert_exporter": "python",
   "pygments_lexer": "ipython3",
   "version": "3.9.5"
  },
  "orig_nbformat": 4
 },
 "nbformat": 4,
 "nbformat_minor": 2
}
